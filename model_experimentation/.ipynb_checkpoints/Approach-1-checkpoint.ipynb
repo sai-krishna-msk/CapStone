{
 "cells": [
  {
   "cell_type": "markdown",
   "metadata": {},
   "source": [
    "# Approach\n",
    "- Questions would be applied on student document to see if we get relevant answers"
   ]
  },
  {
   "cell_type": "code",
   "execution_count": null,
   "metadata": {},
   "outputs": [],
   "source": [
    "from transformers import pipeline\n",
    "nlp = pipeline(\"question-answering\")\n"
   ]
  },
  {
   "cell_type": "code",
   "execution_count": 20,
   "metadata": {},
   "outputs": [],
   "source": [
    "context  = \"\"\"\n",
    "\n",
    "OOP concepts in Java are the main ideas behind Java’s Object Oriented Programming. They are an abstraction, encapsulation, inheritance, and polymorphism. Grasping them is key to understanding how Java works. Basically, Java OOP concepts let us create working methods and variables, then re-use all or part of them without compromising security.\n",
    "\n",
    "There are four main OOP concepts in Java. These are:\n",
    "\n",
    "Abstraction. Abstraction means using simple things to represent complexity. We all know how to turn the TV on, but we don’t need to know how it works in order to enjoy it. In Java, abstraction means simple things like objects, classes, and variables represent more complex underlying code and data. This is important because it lets avoid repeating the same work multiple times.\n",
    "Encapsulation. This is the practice of keeping fields within a class private, then providing access to them via public methods. It’s a protective barrier that keeps the data and code safe within the class itself. This way, we can re-use objects like code components or variables without allowing open access to the data system-wide.\n",
    "Inheritance. This is a special feature of Object Oriented Programming in Java. It lets programmers create new classes that share some of the attributes of existing classes. This lets us build on previous work without reinventing the wheel.\n",
    "Polymorphism. This Java OOP concept lets programmers use the same word to mean different things in different contexts. One form of polymorphism in Java is method overloading. That’s when different meanings are implied by the code itself. The other form is method overriding. That’s when the different meanings are implied by the values of the supplied variables. See more on this below.\n",
    "\n",
    "\n",
    "\"\"\""
   ]
  },
  {
   "cell_type": "code",
   "execution_count": 21,
   "metadata": {},
   "outputs": [],
   "source": [
    "question = \"\"\"\n",
    "What is Inheritance \n",
    "\"\"\""
   ]
  },
  {
   "cell_type": "code",
   "execution_count": 25,
   "metadata": {},
   "outputs": [
    {
     "data": {
      "text/plain": [
       "{'score': 0.23707558434669662,\n",
       " 'start': 1196,\n",
       " 'end': 1286,\n",
       " 'answer': 'lets programmers create new classes that share some of the attributes of existing classes.'}"
      ]
     },
     "execution_count": 25,
     "metadata": {},
     "output_type": "execute_result"
    }
   ],
   "source": [
    "def getKey(question, doc):\n",
    "    result = nlp(question=question, context=doc)\n",
    "    return result\n",
    "getKey(question, context)"
   ]
  },
  {
   "cell_type": "markdown",
   "metadata": {},
   "source": [
    "## PDF to Text"
   ]
  },
  {
   "cell_type": "code",
   "execution_count": 13,
   "metadata": {},
   "outputs": [],
   "source": [
    "\n",
    "# import fitz\n",
    "# import sys\n",
    "\n",
    "\n",
    "# ifile = \"Abraham Silberschatz-Operating System Concepts ( PDFDrive.com ).pdf\"\n",
    "# ofile = \"Abraham Silberschatz-Operating System Concept.txt\"\n",
    "\n",
    "# doc = fitz.open(ifile)\n",
    "# pages = len(doc)\n",
    "\n",
    "# fout = open(ofile,\"wb\")\n",
    "\n",
    "# for page in doc:\n",
    "#     text = page.getText()\n",
    "#     fout.write(text.encode(\"utf-8\"))\n",
    "\n",
    "# fout.close()"
   ]
  },
  {
   "cell_type": "markdown",
   "metadata": {},
   "source": [
    "## Operating System"
   ]
  },
  {
   "cell_type": "code",
   "execution_count": 14,
   "metadata": {},
   "outputs": [],
   "source": [
    "filename = \"Abraham Silberschatz-Operating System Concept.txt\""
   ]
  },
  {
   "cell_type": "code",
   "execution_count": 15,
   "metadata": {},
   "outputs": [],
   "source": [
    "def getReference(filename):\n",
    "    with open(filename , 'r', encoding=\"utf8\") as f:\n",
    "        doc = f.read()\n",
    "    \n",
    "    return doc"
   ]
  },
  {
   "cell_type": "code",
   "execution_count": 16,
   "metadata": {},
   "outputs": [],
   "source": [
    "doc = getReference(filename)[5000:50000]"
   ]
  },
  {
   "cell_type": "code",
   "execution_count": 26,
   "metadata": {},
   "outputs": [],
   "source": [
    "doc = \"\"\"\n",
    "Process Synchronization is a way to coordinate processes that use shared data. It occurs in an operating system among cooperating processes. Cooperating processes are processes that share resources. While executing many concurrent processes, process synchronization helps to maintain shared data consistency and cooperating process execution. Processes have to be scheduled to ensure that concurrent access to shared data does not create inconsistencies. Data inconsistency can result in what is called a race condition. A race condition occurs when two or more operations are executed at the same time, not scheduled in the proper sequence, and not exited in the critical section correctly.\n",
    "\n",
    "Critical Section\n",
    "A critical section is a segment of code that can be accessed by only one signal process at a certain instance in time. This section consists of shared data resources that need to be accessed by other processes. The entry to the critical section is handled by the wait() function, represented as P(). The exit from a critical section is controlled by the signal() function, represented as V(). Only one process can be executed inside the critical section at a time. Other processes waiting to execute their critical sections have to wait until the current process finishes executing its critical section.\n",
    "\n",
    "Semaphores\n",
    "A critical section execution is handled by a semaphore. A semaphore is simply a variable that stores an integer value. This integer can be accessed by two operations: wait() and signal(). When a process enters the critical section, P(s) is invoked and the semaphore s is set to 1. After the process exits the critical section, s is re-initialized to 0. An example of how Process P is executed inside the critical section is shown below:\n",
    "\n",
    "\"\"\""
   ]
  },
  {
   "cell_type": "code",
   "execution_count": 22,
   "metadata": {},
   "outputs": [],
   "source": [
    "question = \"what is critical section problem ?\""
   ]
  },
  {
   "cell_type": "code",
   "execution_count": 23,
   "metadata": {
    "scrolled": true
   },
   "outputs": [
    {
     "data": {
      "text/plain": [
       "{'score': 0.03413211252793308,\n",
       " 'start': 733,\n",
       " 'end': 798,\n",
       " 'answer': 'a segment of code that can be accessed by only one signal process'}"
      ]
     },
     "execution_count": 23,
     "metadata": {},
     "output_type": "execute_result"
    }
   ],
   "source": [
    "getKey(question, doc)"
   ]
  },
  {
   "cell_type": "markdown",
   "metadata": {},
   "source": [
    "## Model Based"
   ]
  },
  {
   "cell_type": "code",
   "execution_count": 23,
   "metadata": {},
   "outputs": [
    {
     "data": {
      "text/plain": [
       "{'score': 0.03979391884523023,\n",
       " 'start': 246,\n",
       " 'end': 283,\n",
       " 'answer': 'create working methods and variables,'}"
      ]
     },
     "execution_count": 23,
     "metadata": {},
     "output_type": "execute_result"
    }
   ],
   "source": [
    "nlp(question=['what is inheritence', 'what is abstraction'], context= context)"
   ]
  },
  {
   "cell_type": "code",
   "execution_count": null,
   "metadata": {},
   "outputs": [],
   "source": []
  },
  {
   "cell_type": "code",
   "execution_count": 24,
   "metadata": {},
   "outputs": [
    {
     "data": {
      "text/plain": [
       "{'score': 0.03296760108328857,\n",
       " 'start': 402,\n",
       " 'end': 414,\n",
       " 'answer': 'Abstraction.'}"
      ]
     },
     "execution_count": 24,
     "metadata": {},
     "output_type": "execute_result"
    }
   ],
   "source": [
    "nlp(question= 'what is abstraction', context= context)"
   ]
  },
  {
   "cell_type": "code",
   "execution_count": null,
   "metadata": {},
   "outputs": [],
   "source": []
  },
  {
   "cell_type": "markdown",
   "metadata": {},
   "source": [
    "# Experiment"
   ]
  },
  {
   "cell_type": "code",
   "execution_count": 28,
   "metadata": {},
   "outputs": [],
   "source": [
    "lis = [\n",
    "   \"what is process synchronization ?\",\n",
    "    \"what is critical section ?\",\n",
    "    \"what is Semaphores ?\",\n",
    "    \n",
    "]"
   ]
  },
  {
   "cell_type": "code",
   "execution_count": 30,
   "metadata": {},
   "outputs": [
    {
     "name": "stdout",
     "output_type": "stream",
     "text": [
      "{'score': 0.4417556319928318, 'start': 28, 'end': 79, 'answer': 'a way to coordinate processes that use shared data.'}\n",
      "{'score': 0.08688577699549284, 'start': 733, 'end': 798, 'answer': 'a segment of code that can be accessed by only one signal process'}\n",
      "{'score': 0.388500620029936, 'start': 1405, 'end': 1445, 'answer': 'a variable that stores an integer value.'}\n"
     ]
    }
   ],
   "source": [
    "for question in lis:\n",
    "    print(getKey(question , doc))"
   ]
  },
  {
   "cell_type": "code",
   "execution_count": 2,
   "metadata": {},
   "outputs": [
    {
     "name": "stdout",
     "output_type": "stream",
     "text": [
      "Requirement already satisfied: st-annotated-text in c:\\users\\saima\\anaconda3\\envs\\capstone\\lib\\site-packages (1.0.1)\n",
      "Requirement already satisfied: htbuilder in c:\\users\\saima\\anaconda3\\envs\\capstone\\lib\\site-packages (from st-annotated-text) (0.3.0)\n",
      "Requirement already satisfied: iteration-utilities in c:\\users\\saima\\anaconda3\\envs\\capstone\\lib\\site-packages (from htbuilder->st-annotated-text) (0.10.1)\n"
     ]
    }
   ],
   "source": [
    "!pip install st-annotated-text"
   ]
  },
  {
   "cell_type": "code",
   "execution_count": 3,
   "metadata": {},
   "outputs": [],
   "source": [
    "from annotated_text import annotated_text"
   ]
  },
  {
   "cell_type": "code",
   "execution_count": null,
   "metadata": {},
   "outputs": [],
   "source": []
  },
  {
   "cell_type": "code",
   "execution_count": null,
   "metadata": {},
   "outputs": [],
   "source": [
    "doc = \"\"\"\n",
    "\n",
    "\n",
    "A critical section is a segment of code which can be accessed by a signal process at a specific point of time. The section consists of shared data resources that required to be accessed by other processes.\n",
    "\n",
    "In the critical section, only a single process can be executed. Other processes, waiting to execute their critical section, need to wait until the current process completes its execution.\n",
    "\n",
    "\n",
    "The critical section need to must enforce all\n",
    "\n",
    "Mutual Exclusion: Mutual Exclusion is a special type of binary semaphore which is used for controlling access to the shared resource. It includes a priority inheritance mechanism to avoid extended priority inversion problems. Not more than one process can execute in its critical section at one time.\n",
    "\n",
    "Progress: This solution is used when no one is in the critical section, and someone wants in. Then those processes not in their reminder section should decide who should go in, in a finite time.\n",
    "\n",
    "Bound Waiting: When a process makes a request for getting into critical section, there is a specific limit about number of processes can get into their critical section. So, when the limit is reached, the system must allow request to the process to get into its critical section.\n",
    "\n",
    "\n",
    "some widely used methods to solve the critical section problem.\n",
    " \n",
    "Peterson Solution: Before entering into the critical section, a process inquires about the lock. If it is locked, it keeps on waiting till it becomes free and if it is not locked, it takes the lock and executes the critical section.\n",
    "\n",
    "Synchronization Hardware: Some times the problems of the Critical Section are also resolved by hardware. Some operating system offers a lock functionality where a Process acquires a lock when entering the Critical section and releases the lock after leaving it.\n",
    "\n",
    "Mutex Locks: Synchronization hardware not simple method to implement for everyone, so strict software method known as Mutex Locks was also introduced.\n",
    "\n",
    "Semaphore is simply a variable that is non-negative and shared between threads. It is another algorithm or solution to the critical section problem. It is a signaling mechanism and a thread that is waiting on a semaphore, which can be signaled by another thread.\n",
    "\n",
    "\n",
    "\n",
    "\n",
    "\"\"\""
   ]
  },
  {
   "cell_type": "code",
   "execution_count": null,
   "metadata": {},
   "outputs": [],
   "source": [
    "def getKey(question, doc):\n",
    "    result = nlp(question=question, context=doc)\n",
    "    return result\n",
    "getKey(question, context)"
   ]
  }
 ],
 "metadata": {
  "kernelspec": {
   "display_name": "Python 3",
   "language": "python",
   "name": "python3"
  },
  "language_info": {
   "codemirror_mode": {
    "name": "ipython",
    "version": 3
   },
   "file_extension": ".py",
   "mimetype": "text/x-python",
   "name": "python",
   "nbconvert_exporter": "python",
   "pygments_lexer": "ipython3",
   "version": "3.7.4"
  }
 },
 "nbformat": 4,
 "nbformat_minor": 4
}
