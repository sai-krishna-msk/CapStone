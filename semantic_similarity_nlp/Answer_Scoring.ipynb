{
 "cells": [
  {
   "cell_type": "code",
   "execution_count": 1,
   "metadata": {},
   "outputs": [],
   "source": [
    "\n",
    "import numpy as np\n",
    "from nltk import RegexpTokenizer\n",
    "from nltk.corpus import stopwords\n",
    "from nltk.stem import WordNetLemmatizer \n",
    "from num2words import num2words"
   ]
  },
  {
   "cell_type": "code",
   "execution_count": 2,
   "metadata": {},
   "outputs": [],
   "source": [
    "stop_words = set(stopwords.words())\n",
    "tokenizer = RegexpTokenizer(r'\\w+')\n",
    "lemmatizer = WordNetLemmatizer()"
   ]
  },
  {
   "cell_type": "code",
   "execution_count": 3,
   "metadata": {},
   "outputs": [],
   "source": [
    "seq1 = \"\"\"\n",
    "\n",
    "\n",
    "Many systems provide hardware support for critical section code. The critical section problem could be solved easily in a single-processor environment if we could disallow interrupts to occur while a shared variable or resource is being modified.\n",
    "\n",
    "In this manner, we could be sure that the current sequence of instructions would be allowed to execute in order without pre-emption. Unfortunately, this solution is not feasible in a multiprocessor environment.\n",
    "\n",
    "Disabling interrupt on a multiprocessor environment can be time consuming as the message is passed to all the processors.\n",
    "\n",
    "This message transmission lag, delays entry of threads into critical section and the system efficiency decreases.\n",
    "\n",
    "\n",
    "\"\"\"\n",
    "\n",
    "\n",
    "seq2 = \"\"\"\n",
    "\n",
    "In this page, we will learn about the basics of OOPs. Object-Oriented Programming is a paradigm that provides many concepts, such as inheritance, data binding, polymorphism, etc.\n",
    "\n",
    "Simula is considered the first object-oriented programming language. The programming paradigm where everything is represented as an object is known as a truly object-oriented programming language.\n",
    "\n",
    "Smalltalk is considered the first truly object-oriented programming language.\n",
    "\n",
    "\n",
    "\n",
    "\"\"\"\n",
    "\n",
    "\n",
    "\n",
    "\n",
    "seq3 = \"\"\"\n",
    "\n",
    "Object-oriented programming: As the name suggests, Object-Oriented Programming or OOPs refers to languages that uses \n",
    "objects in programming. Object-oriented programming aims to implement real-world entities like inheritance, hiding, \n",
    "polymorphism etc in programming. The main aim of OOP is to bind together the data and the functions that operate on\n",
    "them so that no other part of the code can access this data except that function.\n",
    "\n",
    "\n",
    "\"\"\"\n",
    "\n",
    "seq4 = \"\"\"\n",
    "\n",
    "The OSI Model we just looked at is just a reference/logical model. It was designed to describe the functions of the communication system by dividing the communication procedure into smaller and simpler components. But when we talk about the TCP/IP model, it was designed and developed by Department of Defense (DoD) in 1960s and is based on standard protocols. It stands for Transmission Control Protocol/Internet Protocol. The TCP/IP model is a concise version of the OSI model. It contains four layers, unlike seven layers in the OSI model. The layers are:\n",
    "\n",
    "Process/Application Layer\n",
    "Host-to-Host/Transport Layer\n",
    "Internet Layer\n",
    "Network Access/Link Layer\n",
    "\n",
    "This layer performs the functions of top three layers of the OSI model: Application, Presentation and Session Layer. It is responsible for node-to-node communication and controls user-interface specifications. Some of the protocols present in this layer are: HTTP, HTTPS, FTP, TFTP, Telnet, SSH, SMTP, SNMP, NTP, DNS, DHCP, NFS, X Window, LPD. Have a look at Protocols in Application Layer for some information about these protocols. Protocols other than those present in the linked article are :\n",
    "\n",
    "HTTP and HTTPS – HTTP stands for Hypertext transfer protocol. It is used by the World Wide Web to manage communications between web browsers and servers. HTTPS stands for HTTP-Secure. It is a combination of HTTP with SSL(Secure Socket Layer). It is efficient in cases where the browser need to fill out forms, sign in, authenticate and carry out bank transactions.\n",
    "SSH – SSH stands for Secure Shell. It is a terminal emulations software similar to Telnet. The reason SSH is more preferred is because of its ability to maintain the encrypted connection. It sets up a secure session over a TCP/IP connection.\n",
    "NTP – NTP stands for Network Time Protocol. It is used to synchronize the clocks on our computer to one standard time source. It is very useful in situations like bank transactions. Assume the following situation without the presence of NTP. Suppose you carry out a transaction, where your computer reads the time at 2:30 PM while the server records it at 2:28 PM. The server can crash very b\n",
    "\n",
    "\n",
    "\n",
    "\n",
    "\"\"\"\n",
    "\n",
    "\n"
   ]
  },
  {
   "cell_type": "markdown",
   "metadata": {},
   "source": [
    "# Semantic Similarity using sentence2vec"
   ]
  },
  {
   "cell_type": "code",
   "execution_count": 4,
   "metadata": {},
   "outputs": [],
   "source": [
    "from sentence_transformers import SentenceTransformer\n",
    "model = SentenceTransformer('distilbert-base-nli-mean-tokens')"
   ]
  },
  {
   "cell_type": "code",
   "execution_count": 5,
   "metadata": {},
   "outputs": [],
   "source": [
    "def prepreprocess_text(doc):\n",
    "    filtered_sentence = []\n",
    "    doc = doc.lower()\n",
    "    word_tokens = tokenizer.tokenize(doc)\n",
    "    for word in word_tokens:\n",
    "        if(word not in stop_words):\n",
    "            if(word.isdigit()):\n",
    "                try:\n",
    "                    word = num2words(word)\n",
    "                except:\n",
    "                    pass\n",
    "            filtered_sentence.append( lemmatizer.lemmatize(word) )\n",
    "    return (\" \".join(filtered_sentence))"
   ]
  },
  {
   "cell_type": "code",
   "execution_count": 6,
   "metadata": {},
   "outputs": [],
   "source": [
    "def get_emb(sent):\n",
    "    sent = prepreprocess_text(sent)\n",
    "    return model.encode(sent)"
   ]
  },
  {
   "cell_type": "code",
   "execution_count": 7,
   "metadata": {},
   "outputs": [
    {
     "name": "stdout",
     "output_type": "stream",
     "text": [
      "0.3357401\n",
      "0.44786522\n",
      "0.771083\n"
     ]
    }
   ],
   "source": [
    "from sklearn.metrics.pairwise import cosine_similarity\n",
    "print(cosine_similarity([get_emb(seq1)], [get_emb(seq2)])[0][0])\n",
    "print(cosine_similarity([get_emb(seq1)], [get_emb(seq3)])[0][0])\n",
    "print(cosine_similarity([get_emb(seq2)], [get_emb(seq3)])[0][0])"
   ]
  },
  {
   "cell_type": "markdown",
   "metadata": {},
   "source": [
    "# Scoring"
   ]
  },
  {
   "cell_type": "markdown",
   "metadata": {},
   "source": [
    "- Idea is to have a collection of documents which would be considered ideal(which possibly would encapsulate all different types of answers possible)\n",
    "- Then for a given answer sheet a weighted average of semantic similarity would be calculated acting as suggestion score foe the answer sheet   "
   ]
  },
  {
   "cell_type": "code",
   "execution_count": null,
   "metadata": {},
   "outputs": [],
   "source": []
  },
  {
   "cell_type": "code",
   "execution_count": null,
   "metadata": {},
   "outputs": [],
   "source": [
    "def calculate_score(ideal_doc, curr_doc):\n",
    "    ideal_doc_emb, curr_doc_emb = get_emb(ideal_doc), get_emb(curr_doc)\n",
    "    \n",
    "    return cosine_similarity([get_emb(ideal_doc_emb)], [get_emb(curr_doc_emb )])[0][0]"
   ]
  },
  {
   "cell_type": "code",
   "execution_count": null,
   "metadata": {},
   "outputs": [],
   "source": [
    "def estimate_similarity(IDEAL_DIR, curr_doc):\n",
    "    ideal_files = os.listdir(IDEAL_DIR)\n",
    "    score = 0\n",
    "    for files in ideal_files:\n",
    "        with open(IDEAL_DIR+files) as f:\n",
    "            text = f.read()\n",
    "        \n",
    "        score+=calculate_score(text, curr_doc)\n",
    "    \n",
    "    return score/len(ideal_files)\n",
    "        "
   ]
  },
  {
   "cell_type": "code",
   "execution_count": 8,
   "metadata": {},
   "outputs": [
    {
     "data": {
      "application/vnd.jupyter.widget-view+json": {
       "model_id": "d4cc3c87a99542618e3746aecf5a522f",
       "version_major": 2,
       "version_minor": 0
      },
      "text/plain": [
       "HBox(children=(HTML(value='Downloading'), FloatProgress(value=0.0, max=260793700.0), HTML(value='')))"
      ]
     },
     "metadata": {},
     "output_type": "display_data"
    },
    {
     "name": "stdout",
     "output_type": "stream",
     "text": [
      "\n"
     ]
    }
   ],
   "source": [
    "from transformers import pipeline\n",
    "nlp = pipeline(\"question-answering\")"
   ]
  },
  {
   "cell_type": "code",
   "execution_count": null,
   "metadata": {},
   "outputs": [],
   "source": []
  }
 ],
 "metadata": {
  "kernelspec": {
   "display_name": "Python 3",
   "language": "python",
   "name": "python3"
  },
  "language_info": {
   "codemirror_mode": {
    "name": "ipython",
    "version": 3
   },
   "file_extension": ".py",
   "mimetype": "text/x-python",
   "name": "python",
   "nbconvert_exporter": "python",
   "pygments_lexer": "ipython3",
   "version": "3.6.11"
  }
 },
 "nbformat": 4,
 "nbformat_minor": 4
}
